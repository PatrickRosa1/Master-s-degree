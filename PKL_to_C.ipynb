{
  "nbformat": 4,
  "nbformat_minor": 0,
  "metadata": {
    "colab": {
      "provenance": [],
      "authorship_tag": "ABX9TyNSa0qiwBNlZxqiWDYPbxWx",
      "include_colab_link": true
    },
    "kernelspec": {
      "name": "python3",
      "display_name": "Python 3"
    },
    "language_info": {
      "name": "python"
    }
  },
  "cells": [
    {
      "cell_type": "markdown",
      "metadata": {
        "id": "view-in-github",
        "colab_type": "text"
      },
      "source": [
        "<a href=\"https://colab.research.google.com/github/PatrickRosa1/Master-s-degree/blob/main/PKL_to_C.ipynb\" target=\"_parent\"><img src=\"https://colab.research.google.com/assets/colab-badge.svg\" alt=\"Open In Colab\"/></a>"
      ]
    },
    {
      "cell_type": "code",
      "execution_count": null,
      "metadata": {
        "colab": {
          "base_uri": "https://localhost:8080/",
          "height": 304
        },
        "id": "_oUbEV7zn-z3",
        "outputId": "e2708f6f-3f9b-4f98-a637-d54f7468b4f7"
      },
      "outputs": [
        {
          "output_type": "error",
          "ename": "MessageError",
          "evalue": "Error: credential propagation was unsuccessful",
          "traceback": [
            "\u001b[0;31m---------------------------------------------------------------------------\u001b[0m",
            "\u001b[0;31mMessageError\u001b[0m                              Traceback (most recent call last)",
            "\u001b[0;32m<ipython-input-1-d5df0069828e>\u001b[0m in \u001b[0;36m<cell line: 0>\u001b[0;34m()\u001b[0m\n\u001b[1;32m      1\u001b[0m \u001b[0;32mfrom\u001b[0m \u001b[0mgoogle\u001b[0m\u001b[0;34m.\u001b[0m\u001b[0mcolab\u001b[0m \u001b[0;32mimport\u001b[0m \u001b[0mdrive\u001b[0m\u001b[0;34m\u001b[0m\u001b[0;34m\u001b[0m\u001b[0m\n\u001b[0;32m----> 2\u001b[0;31m \u001b[0mdrive\u001b[0m\u001b[0;34m.\u001b[0m\u001b[0mmount\u001b[0m\u001b[0;34m(\u001b[0m\u001b[0;34m'/content/drive'\u001b[0m\u001b[0;34m)\u001b[0m\u001b[0;34m\u001b[0m\u001b[0;34m\u001b[0m\u001b[0m\n\u001b[0m",
            "\u001b[0;32m/usr/local/lib/python3.11/dist-packages/google/colab/drive.py\u001b[0m in \u001b[0;36mmount\u001b[0;34m(mountpoint, force_remount, timeout_ms, readonly)\u001b[0m\n\u001b[1;32m     98\u001b[0m \u001b[0;32mdef\u001b[0m \u001b[0mmount\u001b[0m\u001b[0;34m(\u001b[0m\u001b[0mmountpoint\u001b[0m\u001b[0;34m,\u001b[0m \u001b[0mforce_remount\u001b[0m\u001b[0;34m=\u001b[0m\u001b[0;32mFalse\u001b[0m\u001b[0;34m,\u001b[0m \u001b[0mtimeout_ms\u001b[0m\u001b[0;34m=\u001b[0m\u001b[0;36m120000\u001b[0m\u001b[0;34m,\u001b[0m \u001b[0mreadonly\u001b[0m\u001b[0;34m=\u001b[0m\u001b[0;32mFalse\u001b[0m\u001b[0;34m)\u001b[0m\u001b[0;34m:\u001b[0m\u001b[0;34m\u001b[0m\u001b[0;34m\u001b[0m\u001b[0m\n\u001b[1;32m     99\u001b[0m   \u001b[0;34m\"\"\"Mount your Google Drive at the specified mountpoint path.\"\"\"\u001b[0m\u001b[0;34m\u001b[0m\u001b[0;34m\u001b[0m\u001b[0m\n\u001b[0;32m--> 100\u001b[0;31m   return _mount(\n\u001b[0m\u001b[1;32m    101\u001b[0m       \u001b[0mmountpoint\u001b[0m\u001b[0;34m,\u001b[0m\u001b[0;34m\u001b[0m\u001b[0;34m\u001b[0m\u001b[0m\n\u001b[1;32m    102\u001b[0m       \u001b[0mforce_remount\u001b[0m\u001b[0;34m=\u001b[0m\u001b[0mforce_remount\u001b[0m\u001b[0;34m,\u001b[0m\u001b[0;34m\u001b[0m\u001b[0;34m\u001b[0m\u001b[0m\n",
            "\u001b[0;32m/usr/local/lib/python3.11/dist-packages/google/colab/drive.py\u001b[0m in \u001b[0;36m_mount\u001b[0;34m(mountpoint, force_remount, timeout_ms, ephemeral, readonly)\u001b[0m\n\u001b[1;32m    135\u001b[0m   )\n\u001b[1;32m    136\u001b[0m   \u001b[0;32mif\u001b[0m \u001b[0mephemeral\u001b[0m\u001b[0;34m:\u001b[0m\u001b[0;34m\u001b[0m\u001b[0;34m\u001b[0m\u001b[0m\n\u001b[0;32m--> 137\u001b[0;31m     _message.blocking_request(\n\u001b[0m\u001b[1;32m    138\u001b[0m         \u001b[0;34m'request_auth'\u001b[0m\u001b[0;34m,\u001b[0m\u001b[0;34m\u001b[0m\u001b[0;34m\u001b[0m\u001b[0m\n\u001b[1;32m    139\u001b[0m         \u001b[0mrequest\u001b[0m\u001b[0;34m=\u001b[0m\u001b[0;34m{\u001b[0m\u001b[0;34m'authType'\u001b[0m\u001b[0;34m:\u001b[0m \u001b[0;34m'dfs_ephemeral'\u001b[0m\u001b[0;34m}\u001b[0m\u001b[0;34m,\u001b[0m\u001b[0;34m\u001b[0m\u001b[0;34m\u001b[0m\u001b[0m\n",
            "\u001b[0;32m/usr/local/lib/python3.11/dist-packages/google/colab/_message.py\u001b[0m in \u001b[0;36mblocking_request\u001b[0;34m(request_type, request, timeout_sec, parent)\u001b[0m\n\u001b[1;32m    174\u001b[0m       \u001b[0mrequest_type\u001b[0m\u001b[0;34m,\u001b[0m \u001b[0mrequest\u001b[0m\u001b[0;34m,\u001b[0m \u001b[0mparent\u001b[0m\u001b[0;34m=\u001b[0m\u001b[0mparent\u001b[0m\u001b[0;34m,\u001b[0m \u001b[0mexpect_reply\u001b[0m\u001b[0;34m=\u001b[0m\u001b[0;32mTrue\u001b[0m\u001b[0;34m\u001b[0m\u001b[0;34m\u001b[0m\u001b[0m\n\u001b[1;32m    175\u001b[0m   )\n\u001b[0;32m--> 176\u001b[0;31m   \u001b[0;32mreturn\u001b[0m \u001b[0mread_reply_from_input\u001b[0m\u001b[0;34m(\u001b[0m\u001b[0mrequest_id\u001b[0m\u001b[0;34m,\u001b[0m \u001b[0mtimeout_sec\u001b[0m\u001b[0;34m)\u001b[0m\u001b[0;34m\u001b[0m\u001b[0;34m\u001b[0m\u001b[0m\n\u001b[0m",
            "\u001b[0;32m/usr/local/lib/python3.11/dist-packages/google/colab/_message.py\u001b[0m in \u001b[0;36mread_reply_from_input\u001b[0;34m(message_id, timeout_sec)\u001b[0m\n\u001b[1;32m    101\u001b[0m     ):\n\u001b[1;32m    102\u001b[0m       \u001b[0;32mif\u001b[0m \u001b[0;34m'error'\u001b[0m \u001b[0;32min\u001b[0m \u001b[0mreply\u001b[0m\u001b[0;34m:\u001b[0m\u001b[0;34m\u001b[0m\u001b[0;34m\u001b[0m\u001b[0m\n\u001b[0;32m--> 103\u001b[0;31m         \u001b[0;32mraise\u001b[0m \u001b[0mMessageError\u001b[0m\u001b[0;34m(\u001b[0m\u001b[0mreply\u001b[0m\u001b[0;34m[\u001b[0m\u001b[0;34m'error'\u001b[0m\u001b[0;34m]\u001b[0m\u001b[0;34m)\u001b[0m\u001b[0;34m\u001b[0m\u001b[0;34m\u001b[0m\u001b[0m\n\u001b[0m\u001b[1;32m    104\u001b[0m       \u001b[0;32mreturn\u001b[0m \u001b[0mreply\u001b[0m\u001b[0;34m.\u001b[0m\u001b[0mget\u001b[0m\u001b[0;34m(\u001b[0m\u001b[0;34m'data'\u001b[0m\u001b[0;34m,\u001b[0m \u001b[0;32mNone\u001b[0m\u001b[0;34m)\u001b[0m\u001b[0;34m\u001b[0m\u001b[0;34m\u001b[0m\u001b[0m\n\u001b[1;32m    105\u001b[0m \u001b[0;34m\u001b[0m\u001b[0m\n",
            "\u001b[0;31mMessageError\u001b[0m: Error: credential propagation was unsuccessful"
          ]
        }
      ],
      "source": [
        "from google.colab import drive\n",
        "drive.mount('/content/drive')"
      ]
    },
    {
      "cell_type": "code",
      "source": [
        "import pickle\n",
        "\n",
        "# Substitua pelo caminho do seu arquivo .pkl no Google Drive\n",
        "with open('/content/drive/MyDrive/Mestrado/Arvores/HM.pkl', 'rb') as file:\n",
        "    clf = pickle.load(file)"
      ],
      "metadata": {
        "id": "rwtsIvQyoF5j"
      },
      "execution_count": null,
      "outputs": []
    },
    {
      "cell_type": "code",
      "source": [
        "!pip install joblib\n",
        "\n",
        "import joblib\n",
        "\n",
        "# Save the fitted model using joblib\n",
        "# Replace 'your_fitted_model' with the actual model object\n",
        "# joblib.dump(your_fitted_model, '/content/drive/MyDrive/Mestrado/Arvores/HM.pkl')\n",
        "\n",
        "# Load the model using joblib\n",
        "with open('/content/drive/MyDrive/Mestrado/Arvores/HM.pkl', 'rb') as file:\n",
        "    clf = joblib.load(file)"
      ],
      "metadata": {
        "colab": {
          "base_uri": "https://localhost:8080/"
        },
        "id": "eIj4ZXvbp4pT",
        "outputId": "9b328b0c-f140-49f8-f013-1b28e350aa3a"
      },
      "execution_count": null,
      "outputs": [
        {
          "output_type": "stream",
          "name": "stdout",
          "text": [
            "Requirement already satisfied: joblib in /usr/local/lib/python3.11/dist-packages (1.4.2)\n"
          ]
        }
      ]
    },
    {
      "cell_type": "code",
      "source": [
        "import numpy as np\n",
        "\n",
        "# Verificar o tipo do objeto carregado\n",
        "print(type(clf))\n",
        "\n",
        "# Se for um numpy.ndarray, verifique seu conteúdo\n",
        "if isinstance(clf, np.ndarray):\n",
        "    print(\"O objeto é um array numpy. Tamanho:\", clf.shape)\n",
        "    print(\"Primeiro elemento do array:\", clf[0])"
      ],
      "metadata": {
        "colab": {
          "base_uri": "https://localhost:8080/"
        },
        "id": "khFRwVEprV80",
        "outputId": "b60b0ebf-dc0c-49fe-ac72-a0aaa41136ef"
      },
      "execution_count": null,
      "outputs": [
        {
          "output_type": "stream",
          "name": "stdout",
          "text": [
            "<class 'numpy.ndarray'>\n",
            "O objeto é um array numpy. Tamanho: (24,)\n",
            "Primeiro elemento do array: rd\n"
          ]
        }
      ]
    },
    {
      "cell_type": "code",
      "source": [
        "# Verificar se o objeto é um ensemble (por exemplo, RandomForestClassifier)\n",
        "if hasattr(clf, 'estimators_'):\n",
        "    print(\"O objeto é um ensemble de árvores.\")\n",
        "    # Acessar a primeira árvore do ensemble\n",
        "    tree = clf.estimators_[0]\n",
        "    # Gerar o código C para a primeira árvore\n",
        "    tree_to_c(tree, feature_names, 'arvore_decisao.c')\n",
        "else:\n",
        "    print(\"O objeto não é um ensemble. Verifique o tipo do objeto.\")"
      ],
      "metadata": {
        "colab": {
          "base_uri": "https://localhost:8080/"
        },
        "id": "qxnuxkjJreVS",
        "outputId": "0c6d3afb-9cff-425c-8956-771bccb62f80"
      },
      "execution_count": null,
      "outputs": [
        {
          "output_type": "stream",
          "name": "stdout",
          "text": [
            "O objeto não é um ensemble. Verifique o tipo do objeto.\n"
          ]
        }
      ]
    },
    {
      "source": [
        "import joblib\n",
        "import numpy as np\n",
        "from sklearn.tree import _tree\n",
        "\n",
        "# Função para converter a árvore de decisão em código C\n",
        "def tree_to_c(tree, feature_names, file_name):\n",
        "    tree_ = tree.tree_\n",
        "    feature_name = [\n",
        "        feature_names[i] if i != _tree.TREE_UNDEFINED else \"undefined!\"\n",
        "        for i in tree_.feature\n",
        "    ]\n",
        "\n",
        "    with open(file_name, 'w') as f:\n",
        "        f.write(\"#include <stdio.h>\\n\\n\")\n",
        "        f.write(\"int predict(double *features) {\\n\")\n",
        "\n",
        "        def recurse(node, depth):\n",
        "            indent = \"    \" * depth\n",
        "            if tree_.feature[node] != _tree.TREE_UNDEFINED:\n",
        "                name = feature_name[node]\n",
        "                threshold = tree_.threshold[node]\n",
        "                f.write(f\"{indent}if (features[{tree_.feature[node]}] <= {threshold}) {{\\n\")\n",
        "                recurse(tree_.children_left[node], depth + 1)\n",
        "                f.write(f\"{indent}}} else {{\\n\")\n",
        "                recurse(tree_.children_right[node], depth + 1)\n",
        "                f.write(f\"{indent}}}\\n\")\n",
        "            else:\n",
        "                f.write(f\"{indent}return {int(tree_.value[node].argmax())};\\n\")\n",
        "\n",
        "        recurse(0, 1)\n",
        "        f.write(\"}\\n\\n\")\n",
        "        f.write(\"int main() {\\n\")\n",
        "        f.write(\"    double features[{}];\\n\".format(len(feature_names)))\n",
        "        f.write(\"    // Preencha o array features com os valores das características\\n\")\n",
        "        f.write(\"    int prediction = predict(features);\\n\")\n",
        "        f.write(\"    printf(\\\"Predição: %d\\\\n\\\", prediction);\\n\")\n",
        "        f.write(\"    return 0;\\n\")\n",
        "        f.write(\"}\\n\")\n",
        "\n",
        "# Carregar o modelo salvo\n",
        "with open('/content/drive/MyDrive/Mestrado/Arvores/RR1.pkl', 'rb') as file:\n",
        "    clf = joblib.load(file)\n",
        "\n",
        "# Verificar o tipo do objeto carregado\n",
        "print(\"Tipo do objeto carregado:\", type(clf))\n",
        "\n",
        "# Nomes das características (features)\n",
        "feature_names = [  \"rd\", \"switchable_rate\", \"switchable_ctx_0\", \"switchable_ctx_1\", \"need_search\",\n",
        "    \"bsize\", \"partition\", \"mode\", \"uv_mode\", \"current_qindex\", \"default_interp_skip_flags\",\n",
        "    \"interp_filter_search_mask\", \"mi_row\", \"mi_col\", \"width\", \"height\", \"mb_to_bottom_edge\",\n",
        "    \"mb_to_left_edge\", \"mb_to_right_edge\", \"mb_to_top_edge\", \"rd_stats_luma_rate\",\n",
        "    \"rd_stats_luma_dist\", \"rd_stats_luma_sse\", \"rd_stats_luma_skip_txfm\", \"rd_stats_rate\",\n",
        "    \"rd_stats_dist\", \"rd_stats_sse\", \"rd_stats_skip_txfm\"]  # Substitua pelos nomes reais\n",
        "\n",
        "# Since clf is a DecisionTreeClassifier, call tree_to_c directly\n",
        "tree_to_c(clf, feature_names, 'all.c') # Call tree_to_c with the loaded model\n",
        "\n",
        "# Verificar o conteúdo do arquivo gerado\n",
        "#with open('arvore_decisao.c', 'r') as f:\n",
        "    #print(f.read())"
      ],
      "cell_type": "code",
      "metadata": {
        "colab": {
          "base_uri": "https://localhost:8080/"
        },
        "id": "3ttY6ZL6tzkw",
        "outputId": "ccfcde33-53f0-4b36-ed89-2221a3bb758d"
      },
      "execution_count": null,
      "outputs": [
        {
          "output_type": "stream",
          "name": "stdout",
          "text": [
            "Tipo do objeto carregado: <class 'sklearn.tree._classes.DecisionTreeClassifier'>\n"
          ]
        }
      ]
    },
    {
      "cell_type": "code",
      "source": [
        "from google.colab import files\n",
        "files.download('all.c')"
      ],
      "metadata": {
        "colab": {
          "base_uri": "https://localhost:8080/",
          "height": 17
        },
        "id": "PWpyRuknuFY0",
        "outputId": "b226c189-5a56-46d6-c75c-3dd0ec7f6505"
      },
      "execution_count": null,
      "outputs": [
        {
          "output_type": "display_data",
          "data": {
            "text/plain": [
              "<IPython.core.display.Javascript object>"
            ],
            "application/javascript": [
              "\n",
              "    async function download(id, filename, size) {\n",
              "      if (!google.colab.kernel.accessAllowed) {\n",
              "        return;\n",
              "      }\n",
              "      const div = document.createElement('div');\n",
              "      const label = document.createElement('label');\n",
              "      label.textContent = `Downloading \"${filename}\": `;\n",
              "      div.appendChild(label);\n",
              "      const progress = document.createElement('progress');\n",
              "      progress.max = size;\n",
              "      div.appendChild(progress);\n",
              "      document.body.appendChild(div);\n",
              "\n",
              "      const buffers = [];\n",
              "      let downloaded = 0;\n",
              "\n",
              "      const channel = await google.colab.kernel.comms.open(id);\n",
              "      // Send a message to notify the kernel that we're ready.\n",
              "      channel.send({})\n",
              "\n",
              "      for await (const message of channel.messages) {\n",
              "        // Send a message to notify the kernel that we're ready.\n",
              "        channel.send({})\n",
              "        if (message.buffers) {\n",
              "          for (const buffer of message.buffers) {\n",
              "            buffers.push(buffer);\n",
              "            downloaded += buffer.byteLength;\n",
              "            progress.value = downloaded;\n",
              "          }\n",
              "        }\n",
              "      }\n",
              "      const blob = new Blob(buffers, {type: 'application/binary'});\n",
              "      const a = document.createElement('a');\n",
              "      a.href = window.URL.createObjectURL(blob);\n",
              "      a.download = filename;\n",
              "      div.appendChild(a);\n",
              "      a.click();\n",
              "      div.remove();\n",
              "    }\n",
              "  "
            ]
          },
          "metadata": {}
        },
        {
          "output_type": "display_data",
          "data": {
            "text/plain": [
              "<IPython.core.display.Javascript object>"
            ],
            "application/javascript": [
              "download(\"download_a8e5761c-71b2-409d-a791-04d31a6dda3f\", \"all.c\", 532717)"
            ]
          },
          "metadata": {}
        }
      ]
    }
  ]
}